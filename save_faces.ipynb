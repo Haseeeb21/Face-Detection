{
 "cells": [
  {
   "cell_type": "markdown",
   "metadata": {},
   "source": [
    "## Detecting Faces and Saving the Faces"
   ]
  },
  {
   "cell_type": "code",
   "execution_count": 1,
   "metadata": {},
   "outputs": [],
   "source": [
    "import cv2\n",
    "import os\n",
    "import numpy as np\n",
    "\n",
    "# Load the Haar Cascade\n",
    "face_cascade = cv2.CascadeClassifier('haarcascade_frontalface_default.xml')\n",
    "\n",
    "# Function to detect faces and draw bounding boxes\n",
    "def detect_bounding_box(vid):\n",
    "    gray_image = cv2.cvtColor(vid, cv2.COLOR_BGR2GRAY)\n",
    "    faces = face_cascade.detectMultiScale(gray_image, 1.1, 5, minSize=(40, 40))\n",
    "    for (x, y, w, h) in faces:\n",
    "        cv2.rectangle(vid, (x, y), (x + w, y + h), (0, 255, 0), 2)\n",
    "    return faces\n",
    "\n",
    "# Function to save detected faces in a folder\n",
    "def save_detected_faces(vid, faces, folder_path, saved_faces):\n",
    "    if not os.path.exists(folder_path):\n",
    "        os.makedirs(folder_path)\n",
    "    \n",
    "    face_id = len(os.listdir(folder_path))  # Start from the current number of files in the folder\n",
    "    for (x, y, w, h) in faces:\n",
    "        new_face = True\n",
    "        for (saved_x, saved_y, saved_w, saved_h) in saved_faces:\n",
    "            distance = np.linalg.norm([x - saved_x, y - saved_y])\n",
    "            if distance < 50 and abs(w - saved_w) < 20 and abs(h - saved_h) < 20:\n",
    "                new_face = False\n",
    "                break\n",
    "        if new_face:\n",
    "            face_image = vid[y:y+h, x:x+w]\n",
    "            face_path = os.path.join(folder_path, f\"face_{face_id}.jpg\")\n",
    "            cv2.imwrite(face_path, face_image)\n",
    "            saved_faces.append((x, y, w, h))\n",
    "            face_id += 1\n",
    "\n",
    "# Initialize video capture\n",
    "video_capture = cv2.VideoCapture(0)\n",
    "\n",
    "# Create a folder to store detected faces\n",
    "folder_path = \"faces_detected\"\n",
    "saved_faces = []\n",
    "\n",
    "while True:\n",
    "    result, video_frame = video_capture.read()\n",
    "    if not result:\n",
    "        break\n",
    "\n",
    "    faces = detect_bounding_box(video_frame)  # Detect faces\n",
    "    save_detected_faces(video_frame, faces, folder_path, saved_faces)  # Save detected faces\n",
    "\n",
    "    cv2.imshow(\"Face Detection\", video_frame)  # Display the processed frame\n",
    "\n",
    "    key = cv2.waitKey(1) & 0xFF\n",
    "    if key == ord(\"q\"):\n",
    "        break\n",
    "    if cv2.getWindowProperty(\"Face Detection\", cv2.WND_PROP_VISIBLE) < 1:\n",
    "        break\n",
    "\n",
    "video_capture.release()\n",
    "cv2.destroyAllWindows()\n"
   ]
  },
  {
   "cell_type": "code",
   "execution_count": 5,
   "metadata": {},
   "outputs": [],
   "source": [
    "cv2.destroyAllWindows()     # Closes all OpenCV windows\n",
    "video_capture.release()     # Releases the video capture object, closing the connection to the camera\n"
   ]
  },
  {
   "cell_type": "code",
   "execution_count": null,
   "metadata": {},
   "outputs": [],
   "source": []
  }
 ],
 "metadata": {
  "kernelspec": {
   "display_name": "Python 3",
   "language": "python",
   "name": "python3"
  },
  "language_info": {
   "codemirror_mode": {
    "name": "ipython",
    "version": 3
   },
   "file_extension": ".py",
   "mimetype": "text/x-python",
   "name": "python",
   "nbconvert_exporter": "python",
   "pygments_lexer": "ipython3",
   "version": "3.12.3"
  }
 },
 "nbformat": 4,
 "nbformat_minor": 2
}
