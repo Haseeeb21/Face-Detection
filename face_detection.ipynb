{
 "cells": [
  {
   "cell_type": "markdown",
   "metadata": {},
   "source": [
    "### Import library and Load haarcascaed xml file"
   ]
  },
  {
   "cell_type": "code",
   "execution_count": 1,
   "metadata": {},
   "outputs": [],
   "source": [
    "import cv2\n",
    "\n",
    "face_cascade = cv2.CascadeClassifier('haarcascade_frontalface_default.xml')\n"
   ]
  },
  {
   "cell_type": "markdown",
   "metadata": {},
   "source": [
    "### Function for bounding boxes for Face "
   ]
  },
  {
   "cell_type": "code",
   "execution_count": 2,
   "metadata": {},
   "outputs": [],
   "source": [
    "\n",
    "def detect_faces(vid):  # Takes input vid frame\n",
    "\n",
    "    gray_image = cv2.cvtColor(vid, cv2.COLOR_BGR2GRAY) # Converting to grayscale\n",
    "\n",
    "    faces = face_cascade.detectMultiScale(gray_image, scaleFactor = 1.1, minNeighbors = 5)  # Adjust param values according to use\n",
    "    \n",
    "    for (x, y, w, h) in faces:\n",
    "        cv2.rectangle(vid, (x, y), (x + w, y + h), (0, 255, 0), 2)  # Green for face boundary\n",
    "        roi_gray = gray_image[y:y + h, x:x + w]\n",
    "        roi_color = vid[y:y + h, x:x + w]\n",
    "        \n",
    "    \n",
    "    return vid\n"
   ]
  },
  {
   "cell_type": "markdown",
   "metadata": {},
   "source": [
    "### Accessing camera and processing input frames"
   ]
  },
  {
   "cell_type": "code",
   "execution_count": 3,
   "metadata": {},
   "outputs": [],
   "source": [
    "\n",
    "# Video capture object\n",
    "video_capture = cv2.VideoCapture(0) \n",
    "                                    # Default camera index, can use if you have multiple\n",
    "\n",
    "# Creating a resizable window\n",
    "cv2.namedWindow(\"Face Detection\", cv2.WINDOW_NORMAL)\n",
    "\n",
    "while True:\n",
    "\n",
    "    result, video_frame = video_capture.read()  # Boolean (fail / success), Reads frames from the video\n",
    "    \n",
    "    if not result:         # if result is False:\n",
    "        break\n",
    "\n",
    "    faces = detect_faces(video_frame)  # Passing video frame to function\n",
    "\n",
    "    # Getting the size of the window\n",
    "    screen_width = cv2.getWindowImageRect(\"Face Detection\")[2]  # Width of the window\n",
    "    screen_height = cv2.getWindowImageRect(\"Face Detection\")[3] # Height of the window\n",
    "    \n",
    "    # Resizing the video frame to fit the window\n",
    "    resized_frame = cv2.resize(video_frame, (screen_width, screen_height))\n",
    "\n",
    "    cv2.imshow(\"Face Detection\", resized_frame)  # Display the resized frame\n",
    "\n",
    "    key = cv2.waitKey(1) & 0xFF\n",
    "    if key == ord(\"q\"):\n",
    "        break\n",
    "    if cv2.getWindowProperty(\"Face Detection\", cv2.WND_PROP_VISIBLE) < 1: # Closes by cross of window\n",
    "        break\n",
    "\n",
    "video_capture.release()     # Releases the video capture object, closing the connection to the camera\n",
    "cv2.destroyAllWindows()     # Closes all OpenCV windows\n"
   ]
  },
  {
   "cell_type": "code",
   "execution_count": 10,
   "metadata": {},
   "outputs": [],
   "source": [
    "video_capture.release()\n",
    "cv2.destroyAllWindows()"
   ]
  },
  {
   "cell_type": "code",
   "execution_count": null,
   "metadata": {},
   "outputs": [],
   "source": []
  }
 ],
 "metadata": {
  "kernelspec": {
   "display_name": "Python 3",
   "language": "python",
   "name": "python3"
  },
  "language_info": {
   "codemirror_mode": {
    "name": "ipython",
    "version": 3
   },
   "file_extension": ".py",
   "mimetype": "text/x-python",
   "name": "python",
   "nbconvert_exporter": "python",
   "pygments_lexer": "ipython3",
   "version": "3.12.3"
  }
 },
 "nbformat": 4,
 "nbformat_minor": 2
}
